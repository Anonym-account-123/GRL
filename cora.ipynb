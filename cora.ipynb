{
  "cells": [
    {
      "cell_type": "code",
      "execution_count": 1,
      "metadata": {
        "id": "91AyRGmFJAzQ"
      },
      "outputs": [],
      "source": [
        "import torch\n",
        "import networkx as nx\n",
        "import matplotlib.pyplot as plt\n",
        "import numpy as np\n",
        "from torch_geometric.datasets import Planetoid\n",
        "import os\n",
        "import torch.nn.functional as F\n",
        "from torch.nn import Linear, Dropout\n",
        "from torch_geometric.nn import GCNConv, GATv2Conv\n",
        "from torch_geometric.utils import degree, to_networkx\n",
        "from collections import Counter\n",
        "from torch_geometric.utils import degree\n",
        "\n",
        "\n",
        "\n",
        "np.random.seed(0)"
      ]
    },
    {
      "cell_type": "code",
      "source": [
        "!pip install scipy==1.8.0\n"
      ],
      "metadata": {
        "id": "SqXfLMXkkXbq",
        "outputId": "a46e91db-51b0-4953-d389-cb3a9f3c7da3",
        "colab": {
          "base_uri": "https://localhost:8080/"
        }
      },
      "execution_count": 2,
      "outputs": [
        {
          "output_type": "stream",
          "name": "stdout",
          "text": [
            "Looking in indexes: https://pypi.org/simple, https://us-python.pkg.dev/colab-wheels/public/simple/\n",
            "Requirement already satisfied: scipy==1.8.0 in /usr/local/lib/python3.8/dist-packages (1.8.0)\n",
            "Requirement already satisfied: numpy<1.25.0,>=1.17.3 in /usr/local/lib/python3.8/dist-packages (from scipy==1.8.0) (1.21.6)\n"
          ]
        }
      ]
    },
    {
      "cell_type": "code",
      "execution_count": 19,
      "metadata": {
        "id": "eSCVab6U7cUy"
      },
      "outputs": [],
      "source": [
        "dataset = 'cora'\n",
        "path = os.path.join(os.getcwd(), 'data', 'Planetoid')\n",
        "dataset = Planetoid(path, dataset)\n",
        "data = dataset[0]"
      ]
    },
    {
      "cell_type": "code",
      "source": [
        "def calc_acc(pred_y, y):\n",
        "    return ((pred_y == y).sum() / len(y)).item()"
      ],
      "metadata": {
        "id": "A8JSqJ8b2o31"
      },
      "execution_count": 20,
      "outputs": []
    },
    {
      "cell_type": "code",
      "source": [
        "class GCN(torch.nn.Module):\n",
        "  def __init__(self, dim_in, dim_hidden, dim_out):\n",
        "    super().__init__()\n",
        "    self.l1 = GCNConv(dim_in, dim_hidden)\n",
        "    self.l2 = GCNConv(dim_hidden, dim_out)\n",
        "\n",
        "  def forward(self, x, e_idx, p=0.5):\n",
        "    x = F.dropout(x, p, training=self.training)\n",
        "    x = torch.relu(self.l1(x, e_idx))\n",
        "    x = F.dropout(x, p, training=self.training)\n",
        "    x = self.l2(x, e_idx)\n",
        "    return x, F.log_softmax(x, dim=1)"
      ],
      "metadata": {
        "id": "MAuHJIxw0Njx"
      },
      "execution_count": 25,
      "outputs": []
    },
    {
      "cell_type": "code",
      "source": [
        "class GAT(torch.nn.Module):\n",
        "  def __init__(self, dim_in, dim_hidden, dim_out, hidden_heads=8):\n",
        "    super().__init__()\n",
        "    mult_hidden = dim_hidden * hidden_heads\n",
        "    self.l1 = GATv2Conv(dim_in, dim_hidden, heads=hidden_heads)\n",
        "    self.l2 = GATv2Conv(mult_hidden, dim_out, heads=1)\n",
        "\n",
        "  def forward(self, x, e_idx, p=0.5):\n",
        "    x = F.dropout(x, p, training=self.training)\n",
        "    x = F.elu(self.l1(x, e_idx))\n",
        "    x = F.dropout(x, p, training=self.training)\n",
        "    x = self.l2(x, e_idx)\n",
        "    return x, F.log_softmax(x, dim=1)"
      ],
      "metadata": {
        "id": "cfohvxIJ0-PY"
      },
      "execution_count": 42,
      "outputs": []
    },
    {
      "cell_type": "code",
      "execution_count": 46,
      "metadata": {
        "id": "rUPwRmTpNwD4"
      },
      "outputs": [],
      "source": [
        "cross_entropy = torch.nn.CrossEntropyLoss()\n",
        "\n",
        "def train(model, data, optimizer, epoch_nr=190):\n",
        "    def calc_loss(pred_y, true_y):\n",
        "      return cross_entropy(pred_y, true_y)\n",
        "\n",
        "\n",
        "    model.train()\n",
        "    for e in range(epoch_nr):\n",
        "        optimizer.zero_grad()\n",
        "        _, out = model(data.x, data.edge_index)\n",
        "        pred_y = out[data.train_mask]\n",
        "        true_y = data.y[data.train_mask]\n",
        "        loss = calc_loss(pred_y, true_y)\n",
        "        acc = calc_acc(out[data.train_mask].argmax(dim=1), data.y[data.train_mask])\n",
        "        loss.backward()\n",
        "        optimizer.step()\n",
        "\n",
        "        if(e % 10 == 0):\n",
        "          print(\"Epoch: \" + str(e) + \"  Train acc: \" + str(acc*100) + \"%\")\n",
        "\n",
        "\n",
        "def test(model, data):\n",
        "    model.eval()\n",
        "    _, out = model(data.x, data.edge_index)\n",
        "    acc = calc_acc(out.argmax(dim=1)[data.test_mask], data.y[data.test_mask])\n",
        "    return acc"
      ]
    },
    {
      "cell_type": "code",
      "execution_count": 47,
      "metadata": {
        "colab": {
          "base_uri": "https://localhost:8080/"
        },
        "id": "axiK2nn0Ps8N",
        "outputId": "44072a15-9d70-45eb-8819-b6964fbed537"
      },
      "outputs": [
        {
          "output_type": "stream",
          "name": "stdout",
          "text": [
            "Epoch: 0  Train acc: 12.142857164144516%\n",
            "Epoch: 10  Train acc: 95.71428298950195%\n",
            "Epoch: 20  Train acc: 99.28571581840515%\n",
            "Epoch: 30  Train acc: 99.28571581840515%\n",
            "Epoch: 40  Train acc: 99.28571581840515%\n",
            "Epoch: 50  Train acc: 100.0%\n",
            "Epoch: 60  Train acc: 97.14285731315613%\n",
            "Epoch: 70  Train acc: 99.28571581840515%\n",
            "Epoch: 80  Train acc: 99.28571581840515%\n",
            "Epoch: 90  Train acc: 99.28571581840515%\n",
            "Epoch: 100  Train acc: 97.85714149475098%\n",
            "Epoch: 110  Train acc: 99.28571581840515%\n",
            "Epoch: 120  Train acc: 100.0%\n",
            "Epoch: 130  Train acc: 97.85714149475098%\n",
            "Epoch: 140  Train acc: 99.28571581840515%\n",
            "Epoch: 150  Train acc: 100.0%\n",
            "Epoch: 160  Train acc: 97.85714149475098%\n",
            "Epoch: 170  Train acc: 97.85714149475098%\n",
            "Epoch: 180  Train acc: 99.28571581840515%\n",
            "test accuracy 80.0000011920929%\n"
          ]
        }
      ],
      "source": [
        "# GCN\n",
        "\n",
        "gcn = GCN(dataset.num_features, 16, dataset.num_classes)\n",
        "optimizer_gcn = torch.optim.Adam(gcn.parameters(), lr=0.03, weight_decay=5e-4)\n",
        "train(gcn, data, optimizer_gcn)\n",
        "acc = test(gcn, data)\n",
        "print('test accuracy ' + str(acc*100) + \"%\")"
      ]
    },
    {
      "cell_type": "code",
      "execution_count": 48,
      "metadata": {
        "colab": {
          "base_uri": "https://localhost:8080/"
        },
        "id": "Hpn5nf9zPw6N",
        "outputId": "0ffbdf71-c4d1-4b66-b002-e39ee134092b"
      },
      "outputs": [
        {
          "output_type": "stream",
          "name": "stdout",
          "text": [
            "Epoch: 0  Train acc: 12.142857164144516%\n",
            "Epoch: 10  Train acc: 94.9999988079071%\n",
            "Epoch: 20  Train acc: 98.57142567634583%\n",
            "Epoch: 30  Train acc: 99.28571581840515%\n",
            "Epoch: 40  Train acc: 100.0%\n",
            "Epoch: 50  Train acc: 100.0%\n",
            "Epoch: 60  Train acc: 98.57142567634583%\n",
            "Epoch: 70  Train acc: 99.28571581840515%\n",
            "Epoch: 80  Train acc: 100.0%\n",
            "Epoch: 90  Train acc: 100.0%\n",
            "Epoch: 100  Train acc: 100.0%\n",
            "Epoch: 110  Train acc: 100.0%\n",
            "Epoch: 120  Train acc: 99.28571581840515%\n",
            "Epoch: 130  Train acc: 99.28571581840515%\n",
            "Epoch: 140  Train acc: 100.0%\n",
            "Epoch: 150  Train acc: 100.0%\n",
            "Epoch: 160  Train acc: 100.0%\n",
            "Epoch: 170  Train acc: 100.0%\n",
            "Epoch: 180  Train acc: 100.0%\n",
            "test accuracy 80.40000200271606%\n"
          ]
        }
      ],
      "source": [
        "# GAT\n",
        "gat = GAT(dataset.num_features, 8, dataset.num_classes)\n",
        "optimizer_gat = torch.optim.Adam(gat.parameters(),\n",
        "                                      lr=0.005,\n",
        "                                      weight_decay=5e-3)\n",
        "train(gat, data, optimizer_gat)\n",
        "acc = test(gat, data)\n",
        "print('test accuracy ' + str(acc*100) + \"%\")"
      ]
    },
    {
      "cell_type": "code",
      "source": [
        "degree_str = ['0','1','2','3','4','5','6', '7', 'more than 7']"
      ],
      "metadata": {
        "id": "UPP7blqV_RVP"
      },
      "execution_count": 55,
      "outputs": []
    },
    {
      "cell_type": "code",
      "execution_count": 83,
      "metadata": {
        "id": "oQgBdDybzivy"
      },
      "outputs": [],
      "source": [
        "def plot_degrees(model, color):\n",
        "  acc_array = []\n",
        "  mask_len = []\n",
        "  _, ans = model(data.x, data.edge_index)\n",
        "\n",
        "  for i in range(0, 8):\n",
        "    selected = np.where(degree(data.edge_index[0]).numpy() == i)\n",
        "    mask_len.append(len(selected[0]))\n",
        "    pred_y = ans.argmax(dim=1)[selected[0]]\n",
        "    true_y = data.y[selected[0]]\n",
        "    acc = calc_acc(pred_y, true_y)\n",
        "    acc_array.append(acc)\n",
        "    \n",
        "  selected = np.where(degree(data.edge_index[0]).numpy() > 7)\n",
        "  mask_len.append(len(selected[0]))\n",
        "  pred_y = ans.argmax(dim=1)[selected[0]]\n",
        "  true_y = data.y[selected[0]]\n",
        "  acc_array.append(calc_acc(pred_y, true_y))\n",
        "  \n",
        "  fig, ax = plt.subplots(figsize=(13, 8))\n",
        "\n",
        "  ax.set_ylabel('accuracy in %')\n",
        "  ax.set_xlabel('node degree')\n",
        "  plt.bar(degree_str,\n",
        "          acc_array,\n",
        "          color=color)\n",
        "\n",
        "  for i in range(0, 9):\n",
        "    print(\"degree: \" + degree_str[i] + \"  accuracy: \" + str(acc_array[i]*100) + \"%\")\n",
        "    plt.text(i, acc_array[i] // 2, mask_len[i], va='bottom', ha='center',\n",
        "               color='black', size=20)"
      ]
    },
    {
      "cell_type": "code",
      "source": [
        "plot_degrees(gcn, 'pink')"
      ],
      "metadata": {
        "colab": {
          "base_uri": "https://localhost:8080/",
          "height": 705
        },
        "id": "EKlWDzCu_Wzh",
        "outputId": "24c66dab-9b27-435d-bfa3-72d537c6d8da"
      },
      "execution_count": 84,
      "outputs": [
        {
          "output_type": "stream",
          "name": "stderr",
          "text": [
            "WARNING:matplotlib.text:posx and posy should be finite values\n",
            "WARNING:matplotlib.text:posx and posy should be finite values\n",
            "WARNING:matplotlib.text:posx and posy should be finite values\n"
          ]
        },
        {
          "output_type": "stream",
          "name": "stdout",
          "text": [
            "degree: 0  accuracy: nan%\n",
            "degree: 1  accuracy: 72.16494679450989%\n",
            "degree: 2  accuracy: 80.10291457176208%\n",
            "degree: 3  accuracy: 83.7251365184784%\n",
            "degree: 4  accuracy: 85.86118221282959%\n",
            "degree: 5  accuracy: 86.12099885940552%\n",
            "degree: 6  accuracy: 78.62595319747925%\n",
            "degree: 7  accuracy: 78.04877758026123%\n",
            "degree: more than 7  accuracy: 85.78431606292725%\n"
          ]
        },
        {
          "output_type": "display_data",
          "data": {
            "text/plain": [
              "<Figure size 936x576 with 1 Axes>"
            ],
            "image/png": "[encoded data removed]"
          },
          "metadata": {
            "needs_background": "light"
          }
        }
      ]
    },
    {
      "cell_type": "code",
      "source": [
        "plot_degrees(gat, 'purple')"
      ],
      "metadata": {
        "colab": {
          "base_uri": "https://localhost:8080/",
          "height": 705
        },
        "id": "s8jdcVl8D8Fp",
        "outputId": "3c62e598-8ffc-4bb5-bd32-ee6813fdaeab"
      },
      "execution_count": 91,
      "outputs": [
        {
          "output_type": "stream",
          "name": "stdout",
          "text": [
            "degree: 0  accuracy: nan%\n",
            "degree: 1  accuracy: 74.84536170959473%\n",
            "degree: 2  accuracy: 80.10291457176208%\n",
            "degree: 3  accuracy: 83.36347341537476%\n",
            "degree: 4  accuracy: 84.3187689781189%\n",
            "degree: 5  accuracy: 85.05337834358215%\n",
            "degree: 6  accuracy: 79.38931584358215%\n",
            "degree: 7  accuracy: 81.70731663703918%\n",
            "degree: more than 7  accuracy: 85.29411554336548%\n"
          ]
        },
        {
          "output_type": "stream",
          "name": "stderr",
          "text": [
            "WARNING:matplotlib.text:posx and posy should be finite values\n",
            "WARNING:matplotlib.text:posx and posy should be finite values\n",
            "WARNING:matplotlib.text:posx and posy should be finite values\n"
          ]
        },
        {
          "output_type": "display_data",
          "data": {
            "text/plain": [
              "<Figure size 936x576 with 1 Axes>"
            ],
            "image/png": "[encoded data removed]"
          },
          "metadata": {
            "needs_background": "light"
          }
        }
      ]
    }
  ],
  "metadata": {
    "accelerator": "GPU",
    "colab": {
      "provenance": []
    },
    "kernelspec": {
      "display_name": "Python 3",
      "name": "python3"
    },
    "language_info": {
      "codemirror_mode": {
        "name": "ipython",
        "version": 3
      },
      "file_extension": ".py",
      "mimetype": "text/x-python",
      "name": "python",
      "nbconvert_exporter": "python",
      "pygments_lexer": "ipython3",
      "version": "3.8.12"
    }
  },
  "nbformat": 4,
  "nbformat_minor": 0
}