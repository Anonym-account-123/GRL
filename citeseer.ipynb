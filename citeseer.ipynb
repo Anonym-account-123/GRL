{
  "cells": [
    {
      "cell_type": "code",
      "execution_count": 3,
      "metadata": {
        "id": "91AyRGmFJAzQ",
        "colab": {
          "base_uri": "https://localhost:8080/"
        },
        "outputId": "b480bed4-13b7-4831-8427-0479e89c3e70"
      },
      "outputs": [
        {
          "output_type": "stream",
          "name": "stdout",
          "text": [
            "\u001b[K     |████████████████████████████████| 9.4 MB 44.1 MB/s \n",
            "\u001b[K     |████████████████████████████████| 4.5 MB 23.0 MB/s \n",
            "\u001b[K     |████████████████████████████████| 512 kB 35.6 MB/s \n",
            "\u001b[K     |████████████████████████████████| 280 kB 73.2 MB/s \n",
            "\u001b[?25h  Building wheel for torch-geometric (setup.py) ... \u001b[?25l\u001b[?25hdone\n"
          ]
        }
      ],
      "source": [
        "import torch\n",
        "import networkx as nx\n",
        "import matplotlib.pyplot as plt\n",
        "import numpy as np\n",
        "from torch_geometric.datasets import Planetoid\n",
        "import os\n",
        "import torch.nn.functional as F\n",
        "from torch.nn import Linear, Dropout\n",
        "from torch_geometric.nn import GCNConv, GATv2Conv\n",
        "from torch_geometric.utils import degree, to_networkx\n",
        "from collections import Counter\n",
        "from torch_geometric.utils import degree\n",
        "\n",
        "\n",
        "\n",
        "np.random.seed(0)"
      ]
    },
    {
      "cell_type": "code",
      "source": [
        "!pip install scipy==1.8.0\n"
      ],
      "metadata": {
        "id": "SqXfLMXkkXbq",
        "outputId": "0545f747-adfb-49f5-f961-ac1929622142",
        "colab": {
          "base_uri": "https://localhost:8080/"
        }
      },
      "execution_count": 1,
      "outputs": [
        {
          "output_type": "stream",
          "name": "stdout",
          "text": [
            "Looking in indexes: https://pypi.org/simple, https://us-python.pkg.dev/colab-wheels/public/simple/\n",
            "Collecting scipy==1.8.0\n",
            "  Downloading scipy-1.8.0-cp38-cp38-manylinux_2_17_x86_64.manylinux2014_x86_64.whl (41.6 MB)\n",
            "\u001b[K     |████████████████████████████████| 41.6 MB 1.4 MB/s \n",
            "\u001b[?25hRequirement already satisfied: numpy<1.25.0,>=1.17.3 in /usr/local/lib/python3.8/dist-packages (from scipy==1.8.0) (1.21.6)\n",
            "Installing collected packages: scipy\n",
            "  Attempting uninstall: scipy\n",
            "    Found existing installation: scipy 1.7.3\n",
            "    Uninstalling scipy-1.7.3:\n",
            "      Successfully uninstalled scipy-1.7.3\n",
            "Successfully installed scipy-1.8.0\n"
          ]
        }
      ]
    },
    {
      "cell_type": "code",
      "execution_count": 4,
      "metadata": {
        "id": "eSCVab6U7cUy",
        "colab": {
          "base_uri": "https://localhost:8080/"
        },
        "outputId": "ebae6689-1f27-4115-97e1-24d10d9a76c4"
      },
      "outputs": [
        {
          "output_type": "stream",
          "name": "stderr",
          "text": [
            "Downloading https://github.com/kimiyoung/planetoid/raw/master/data/ind.citeseer.x\n",
            "Downloading https://github.com/kimiyoung/planetoid/raw/master/data/ind.citeseer.tx\n",
            "Downloading https://github.com/kimiyoung/planetoid/raw/master/data/ind.citeseer.allx\n",
            "Downloading https://github.com/kimiyoung/planetoid/raw/master/data/ind.citeseer.y\n",
            "Downloading https://github.com/kimiyoung/planetoid/raw/master/data/ind.citeseer.ty\n",
            "Downloading https://github.com/kimiyoung/planetoid/raw/master/data/ind.citeseer.ally\n",
            "Downloading https://github.com/kimiyoung/planetoid/raw/master/data/ind.citeseer.graph\n",
            "Downloading https://github.com/kimiyoung/planetoid/raw/master/data/ind.citeseer.test.index\n",
            "Processing...\n",
            "Done!\n"
          ]
        }
      ],
      "source": [
        "dataset = 'CiteSeer'\n",
        "path = os.path.join(os.getcwd(), 'data', 'Planetoid')\n",
        "dataset = Planetoid(path, dataset)\n",
        "data = dataset[0]"
      ]
    },
    {
      "cell_type": "code",
      "source": [
        "def calc_acc(pred_y, y):\n",
        "    return ((pred_y == y).sum() / len(y)).item()"
      ],
      "metadata": {
        "id": "A8JSqJ8b2o31"
      },
      "execution_count": 5,
      "outputs": []
    },
    {
      "cell_type": "code",
      "source": [
        "class GCN(torch.nn.Module):\n",
        "  def __init__(self, dim_in, dim_hidden, dim_out):\n",
        "    super().__init__()\n",
        "    self.l1 = GCNConv(dim_in, dim_hidden)\n",
        "    self.l2 = GCNConv(dim_hidden, dim_out)\n",
        "\n",
        "  def forward(self, x, e_idx, p=0.5):\n",
        "    x = F.dropout(x, p, training=self.training)\n",
        "    x = torch.relu(self.l1(x, e_idx))\n",
        "    x = F.dropout(x, p, training=self.training)\n",
        "    x = self.l2(x, e_idx)\n",
        "    return x, F.log_softmax(x, dim=1)"
      ],
      "metadata": {
        "id": "MAuHJIxw0Njx"
      },
      "execution_count": 6,
      "outputs": []
    },
    {
      "cell_type": "code",
      "source": [
        "class GAT(torch.nn.Module):\n",
        "  def __init__(self, dim_in, dim_hidden, dim_out, hidden_heads=8):\n",
        "    super().__init__()\n",
        "    mult_hidden = dim_hidden * hidden_heads\n",
        "    self.l1 = GATv2Conv(dim_in, dim_hidden, heads=hidden_heads)\n",
        "    self.l2 = GATv2Conv(mult_hidden, dim_out, heads=1)\n",
        "\n",
        "  def forward(self, x, e_idx, p=0.5):\n",
        "    x = F.dropout(x, p, training=self.training)\n",
        "    x = F.elu(self.l1(x, e_idx))\n",
        "    x = F.dropout(x, p, training=self.training)\n",
        "    x = self.l2(x, e_idx)\n",
        "    return x, F.log_softmax(x, dim=1)"
      ],
      "metadata": {
        "id": "cfohvxIJ0-PY"
      },
      "execution_count": 7,
      "outputs": []
    },
    {
      "cell_type": "code",
      "execution_count": 8,
      "metadata": {
        "id": "rUPwRmTpNwD4"
      },
      "outputs": [],
      "source": [
        "cross_entropy = torch.nn.CrossEntropyLoss()\n",
        "\n",
        "def train(model, data, optimizer, epoch_nr=190):\n",
        "    def calc_loss(pred_y, true_y):\n",
        "      return cross_entropy(pred_y, true_y)\n",
        "\n",
        "    model.train()\n",
        "    for e in range(epoch_nr):\n",
        "        optimizer.zero_grad()\n",
        "        _, out = model(data.x, data.edge_index)\n",
        "        pred_y = out[data.train_mask]\n",
        "        true_y = data.y[data.train_mask]\n",
        "        loss = calc_loss(pred_y, true_y)\n",
        "        acc = calc_acc(out[data.train_mask].argmax(dim=1), data.y[data.train_mask])\n",
        "        loss.backward()\n",
        "        optimizer.step()\n",
        "\n",
        "        if(e % 10 == 0):\n",
        "          print(\"Epoch: \" + str(e) + \"  Train acc: \" + str(acc*100) + \"%\")\n",
        "\n",
        "\n",
        "def test(model, data):\n",
        "    model.eval()\n",
        "    _, out = model(data.x, data.edge_index)\n",
        "    acc = calc_acc(out.argmax(dim=1)[data.test_mask], data.y[data.test_mask])\n",
        "    return acc"
      ]
    },
    {
      "cell_type": "code",
      "execution_count": 9,
      "metadata": {
        "colab": {
          "base_uri": "https://localhost:8080/"
        },
        "id": "axiK2nn0Ps8N",
        "outputId": "1ea06ce6-ee38-44d2-c63f-7a74862adedb"
      },
      "outputs": [
        {
          "output_type": "stream",
          "name": "stdout",
          "text": [
            "Epoch: 0  Train acc: 21.666666865348816%\n",
            "Epoch: 10  Train acc: 94.9999988079071%\n",
            "Epoch: 20  Train acc: 99.16666746139526%\n",
            "Epoch: 30  Train acc: 98.33333492279053%\n",
            "Epoch: 40  Train acc: 99.16666746139526%\n",
            "Epoch: 50  Train acc: 97.50000238418579%\n",
            "Epoch: 60  Train acc: 98.33333492279053%\n",
            "Epoch: 70  Train acc: 96.66666388511658%\n",
            "Epoch: 80  Train acc: 98.33333492279053%\n",
            "Epoch: 90  Train acc: 96.66666388511658%\n",
            "Epoch: 100  Train acc: 95.83333134651184%\n",
            "Epoch: 110  Train acc: 98.33333492279053%\n",
            "Epoch: 120  Train acc: 96.66666388511658%\n",
            "Epoch: 130  Train acc: 100.0%\n",
            "Epoch: 140  Train acc: 98.33333492279053%\n",
            "Epoch: 150  Train acc: 98.33333492279053%\n",
            "Epoch: 160  Train acc: 98.33333492279053%\n",
            "Epoch: 170  Train acc: 97.50000238418579%\n",
            "Epoch: 180  Train acc: 98.33333492279053%\n",
            "test accuracy 64.0999972820282%\n"
          ]
        }
      ],
      "source": [
        "# GCN\n",
        "\n",
        "gcn = GCN(dataset.num_features, 16, dataset.num_classes)\n",
        "optimizer_gcn = torch.optim.Adam(gcn.parameters(), lr=0.03, weight_decay=5e-4)\n",
        "train(gcn, data, optimizer_gcn)\n",
        "acc = test(gcn, data)\n",
        "print('test accuracy ' + str(acc*100) + \"%\")"
      ]
    },
    {
      "cell_type": "code",
      "execution_count": 10,
      "metadata": {
        "colab": {
          "base_uri": "https://localhost:8080/"
        },
        "id": "Hpn5nf9zPw6N",
        "outputId": "8f8c33d9-85c9-489b-e067-65d35c3143b6"
      },
      "outputs": [
        {
          "output_type": "stream",
          "name": "stdout",
          "text": [
            "Epoch: 0  Train acc: 15.833333134651184%\n",
            "Epoch: 10  Train acc: 95.83333134651184%\n",
            "Epoch: 20  Train acc: 99.16666746139526%\n",
            "Epoch: 30  Train acc: 99.16666746139526%\n",
            "Epoch: 40  Train acc: 100.0%\n",
            "Epoch: 50  Train acc: 99.16666746139526%\n",
            "Epoch: 60  Train acc: 99.16666746139526%\n",
            "Epoch: 70  Train acc: 100.0%\n",
            "Epoch: 80  Train acc: 100.0%\n",
            "Epoch: 90  Train acc: 100.0%\n",
            "Epoch: 100  Train acc: 100.0%\n",
            "Epoch: 110  Train acc: 99.16666746139526%\n",
            "Epoch: 120  Train acc: 100.0%\n",
            "Epoch: 130  Train acc: 100.0%\n",
            "Epoch: 140  Train acc: 100.0%\n",
            "Epoch: 150  Train acc: 100.0%\n",
            "Epoch: 160  Train acc: 100.0%\n",
            "Epoch: 170  Train acc: 100.0%\n",
            "Epoch: 180  Train acc: 100.0%\n",
            "test accuracy 68.30000281333923%\n"
          ]
        }
      ],
      "source": [
        "# GAT\n",
        "gat = GAT(dataset.num_features, 8, dataset.num_classes)\n",
        "optimizer_gat = torch.optim.Adam(gat.parameters(),\n",
        "                                      lr=0.005,\n",
        "                                      weight_decay=5e-3)\n",
        "train(gat, data, optimizer_gat)\n",
        "acc = test(gat, data)\n",
        "print('test accuracy ' + str(acc*100) + \"%\")"
      ]
    },
    {
      "cell_type": "code",
      "source": [
        "degree_str = ['0','1','2','3','4','5','6', '7', 'more than 7']"
      ],
      "metadata": {
        "id": "UPP7blqV_RVP"
      },
      "execution_count": 11,
      "outputs": []
    },
    {
      "cell_type": "code",
      "execution_count": 12,
      "metadata": {
        "id": "oQgBdDybzivy"
      },
      "outputs": [],
      "source": [
        "def plot_degrees(model, color):\n",
        "  acc_array = []\n",
        "  mask_len = []\n",
        "  _, ans = model(data.x, data.edge_index)\n",
        "\n",
        "  for i in range(0, 8):\n",
        "    selected = np.where(degree(data.edge_index[0]).numpy() == i)\n",
        "    mask_len.append(len(selected[0]))\n",
        "    pred_y = ans.argmax(dim=1)[selected[0]]\n",
        "    true_y = data.y[selected[0]]\n",
        "    acc = calc_acc(pred_y, true_y)\n",
        "    acc_array.append(acc)\n",
        "    \n",
        "  selected = np.where(degree(data.edge_index[0]).numpy() > 7)\n",
        "  mask_len.append(len(selected[0]))\n",
        "  pred_y = ans.argmax(dim=1)[selected[0]]\n",
        "  true_y = data.y[selected[0]]\n",
        "  acc_array.append(calc_acc(pred_y, true_y))\n",
        "  \n",
        "  fig, ax = plt.subplots(figsize=(13, 8))\n",
        "\n",
        "  ax.set_ylabel('accuracy in %')\n",
        "  ax.set_xlabel('node degree')\n",
        "  plt.bar(degree_str,\n",
        "          acc_array,\n",
        "          color=color)\n",
        "\n",
        "  for i in range(0, 9):\n",
        "    print(\"degree: \" + degree_str[i] + \"  accuracy: \" + str(acc_array[i]*100) + \"%\")\n",
        "    plt.text(i, acc_array[i] // 2, mask_len[i], va='bottom', ha='center',\n",
        "               color='black', size=20)"
      ]
    },
    {
      "cell_type": "code",
      "source": [
        "plot_degrees(gcn, 'pink')"
      ],
      "metadata": {
        "colab": {
          "base_uri": "https://localhost:8080/",
          "height": 653
        },
        "id": "EKlWDzCu_Wzh",
        "outputId": "3d8a4951-3a63-4d05-cdc6-b8affab9d21d"
      },
      "execution_count": 13,
      "outputs": [
        {
          "output_type": "stream",
          "name": "stdout",
          "text": [
            "degree: 0  accuracy: 50.0%\n",
            "degree: 1  accuracy: 56.498873233795166%\n",
            "degree: 2  accuracy: 67.92452931404114%\n",
            "degree: 3  accuracy: 67.80821681022644%\n",
            "degree: 4  accuracy: 73.41772317886353%\n",
            "degree: 5  accuracy: 76.25899314880371%\n",
            "degree: 6  accuracy: 75.45454502105713%\n",
            "degree: 7  accuracy: 72.13114500045776%\n",
            "degree: more than 7  accuracy: 79.76190447807312%\n"
          ]
        },
        {
          "output_type": "display_data",
          "data": {
            "text/plain": [
              "<Figure size 936x576 with 1 Axes>"
            ],
            "image/png": "[encoded data removed]"
          },
          "metadata": {
            "needs_background": "light"
          }
        }
      ]
    },
    {
      "cell_type": "code",
      "source": [
        "plot_degrees(gat, 'purple')"
      ],
      "metadata": {
        "colab": {
          "base_uri": "https://localhost:8080/",
          "height": 653
        },
        "id": "s8jdcVl8D8Fp",
        "outputId": "345832bf-2d10-4918-e044-fb4b6c587381"
      },
      "execution_count": 14,
      "outputs": [
        {
          "output_type": "stream",
          "name": "stdout",
          "text": [
            "degree: 0  accuracy: 52.08333134651184%\n",
            "degree: 1  accuracy: 60.03005504608154%\n",
            "degree: 2  accuracy: 69.55974698066711%\n",
            "degree: 3  accuracy: 72.60273694992065%\n",
            "degree: 4  accuracy: 75.10548233985901%\n",
            "degree: 5  accuracy: 79.8561155796051%\n",
            "degree: 6  accuracy: 79.09091114997864%\n",
            "degree: 7  accuracy: 78.68852615356445%\n",
            "degree: more than 7  accuracy: 84.52380895614624%\n"
          ]
        },
        {
          "output_type": "display_data",
          "data": {
            "text/plain": [
              "<Figure size 936x576 with 1 Axes>"
            ],
            "image/png": "[encoded data removed]"
          },
          "metadata": {
            "needs_background": "light"
          }
        }
      ]
    }
  ],
  "metadata": {
    "accelerator": "GPU",
    "colab": {
      "provenance": []
    },
    "kernelspec": {
      "display_name": "Python 3",
      "name": "python3"
    },
    "language_info": {
      "codemirror_mode": {
        "name": "ipython",
        "version": 3
      },
      "file_extension": ".py",
      "mimetype": "text/x-python",
      "name": "python",
      "nbconvert_exporter": "python",
      "pygments_lexer": "ipython3",
      "version": "3.8.12"
    }
  },
  "nbformat": 4,
  "nbformat_minor": 0
}